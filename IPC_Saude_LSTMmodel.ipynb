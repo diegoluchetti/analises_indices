{
  "nbformat": 4,
  "nbformat_minor": 0,
  "metadata": {
    "colab": {
      "name": "IPC_Saude_LSTMmodel.ipynb",
      "provenance": [],
      "mount_file_id": "1hOBCO3nK8eBxCT_7f8ly6AQp7zw14zJe",
      "authorship_tag": "ABX9TyMGPnxu/73Q2POrPjIF6okS",
      "include_colab_link": true
    },
    "kernelspec": {
      "name": "python3",
      "display_name": "Python 3"
    },
    "language_info": {
      "name": "python"
    }
  },
  "cells": [
    {
      "cell_type": "markdown",
      "metadata": {
        "id": "view-in-github",
        "colab_type": "text"
      },
      "source": [
        "<a href=\"https://colab.research.google.com/github/diegoluchetti/analises_indices/blob/main/IPC_Saude_LSTMmodel.ipynb\" target=\"_parent\"><img src=\"https://colab.research.google.com/assets/colab-badge.svg\" alt=\"Open In Colab\"/></a>"
      ]
    },
    {
      "cell_type": "code",
      "metadata": {
        "id": "tuihDuZT0y3x"
      },
      "source": [
        "#LSTM - AI Recurrent Neural Network to predict Index Values."
      ],
      "execution_count": 1,
      "outputs": []
    },
    {
      "cell_type": "code",
      "metadata": {
        "id": "3mi2PO3L1Lid"
      },
      "source": [
        "#Libraries\n",
        "import math\n",
        "import pandas_datareader as web\n",
        "import numpy as np\n",
        "import pandas as pd\n",
        "from sklearn.preprocessing import MinMaxScaler\n",
        "from keras.models import Sequential\n",
        "from keras.layers import Dense, LSTM\n",
        "import matplotlib.pyplot as plt\n",
        "import drive\n",
        "plt.style.use('fivethirtyeight')"
      ],
      "execution_count": 2,
      "outputs": []
    },
    {
      "cell_type": "code",
      "metadata": {
        "colab": {
          "base_uri": "https://localhost:8080/",
          "height": 450
        },
        "id": "hSsEmvDi1jiV",
        "outputId": "1acf66d0-d2ca-455d-a4a2-80267a766712"
      },
      "source": [
        "#Importing Data\n",
        "df = pd.read_excel('/content/drive/MyDrive/pesquisaFIPE_IPC.xlsx')\n",
        "#Sort Values by Date\n",
        "df = df.sort_values(by='Referência', ascending=True)\n",
        "#Set Date as Index\n",
        "df = df.set_index('Referência')\n",
        "#Show the data\n",
        "df"
      ],
      "execution_count": 3,
      "outputs": [
        {
          "output_type": "execute_result",
          "data": {
            "text/html": [
              "<div>\n",
              "<style scoped>\n",
              "    .dataframe tbody tr th:only-of-type {\n",
              "        vertical-align: middle;\n",
              "    }\n",
              "\n",
              "    .dataframe tbody tr th {\n",
              "        vertical-align: top;\n",
              "    }\n",
              "\n",
              "    .dataframe thead th {\n",
              "        text-align: right;\n",
              "    }\n",
              "</style>\n",
              "<table border=\"1\" class=\"dataframe\">\n",
              "  <thead>\n",
              "    <tr style=\"text-align: right;\">\n",
              "      <th></th>\n",
              "      <th>Valor</th>\n",
              "      <th>Ano</th>\n",
              "      <th>Mês</th>\n",
              "    </tr>\n",
              "    <tr>\n",
              "      <th>Referência</th>\n",
              "      <th></th>\n",
              "      <th></th>\n",
              "      <th></th>\n",
              "    </tr>\n",
              "  </thead>\n",
              "  <tbody>\n",
              "    <tr>\n",
              "      <th>1999-12-31</th>\n",
              "      <td>222.5579</td>\n",
              "      <td>2000</td>\n",
              "      <td>1</td>\n",
              "    </tr>\n",
              "    <tr>\n",
              "      <th>2000-01-31</th>\n",
              "      <td>221.8680</td>\n",
              "      <td>2000</td>\n",
              "      <td>2</td>\n",
              "    </tr>\n",
              "    <tr>\n",
              "      <th>2000-02-29</th>\n",
              "      <td>221.8680</td>\n",
              "      <td>2000</td>\n",
              "      <td>3</td>\n",
              "    </tr>\n",
              "    <tr>\n",
              "      <th>2000-03-31</th>\n",
              "      <td>222.7111</td>\n",
              "      <td>2000</td>\n",
              "      <td>4</td>\n",
              "    </tr>\n",
              "    <tr>\n",
              "      <th>2000-04-30</th>\n",
              "      <td>224.1587</td>\n",
              "      <td>2000</td>\n",
              "      <td>5</td>\n",
              "    </tr>\n",
              "    <tr>\n",
              "      <th>...</th>\n",
              "      <td>...</td>\n",
              "      <td>...</td>\n",
              "      <td>...</td>\n",
              "    </tr>\n",
              "    <tr>\n",
              "      <th>2021-03-31</th>\n",
              "      <td>990.5372</td>\n",
              "      <td>2021</td>\n",
              "      <td>4</td>\n",
              "    </tr>\n",
              "    <tr>\n",
              "      <th>2021-04-30</th>\n",
              "      <td>997.3363</td>\n",
              "      <td>2021</td>\n",
              "      <td>5</td>\n",
              "    </tr>\n",
              "    <tr>\n",
              "      <th>2021-05-31</th>\n",
              "      <td>1005.9522</td>\n",
              "      <td>2021</td>\n",
              "      <td>6</td>\n",
              "    </tr>\n",
              "    <tr>\n",
              "      <th>2021-06-30</th>\n",
              "      <td>1007.7881</td>\n",
              "      <td>2021</td>\n",
              "      <td>7</td>\n",
              "    </tr>\n",
              "    <tr>\n",
              "      <th>2021-07-31</th>\n",
              "      <td>1007.4243</td>\n",
              "      <td>2021</td>\n",
              "      <td>8</td>\n",
              "    </tr>\n",
              "  </tbody>\n",
              "</table>\n",
              "<p>260 rows × 3 columns</p>\n",
              "</div>"
            ],
            "text/plain": [
              "                Valor   Ano  Mês\n",
              "Referência                      \n",
              "1999-12-31   222.5579  2000    1\n",
              "2000-01-31   221.8680  2000    2\n",
              "2000-02-29   221.8680  2000    3\n",
              "2000-03-31   222.7111  2000    4\n",
              "2000-04-30   224.1587  2000    5\n",
              "...               ...   ...  ...\n",
              "2021-03-31   990.5372  2021    4\n",
              "2021-04-30   997.3363  2021    5\n",
              "2021-05-31  1005.9522  2021    6\n",
              "2021-06-30  1007.7881  2021    7\n",
              "2021-07-31  1007.4243  2021    8\n",
              "\n",
              "[260 rows x 3 columns]"
            ]
          },
          "metadata": {},
          "execution_count": 3
        }
      ]
    },
    {
      "cell_type": "code",
      "metadata": {
        "colab": {
          "base_uri": "https://localhost:8080/"
        },
        "id": "klOehmlE2w6r",
        "outputId": "0ea2241a-552f-4a59-97c0-522accdb86ca"
      },
      "source": [
        "#Get the number of rows and columns\n",
        "df.shape"
      ],
      "execution_count": 4,
      "outputs": [
        {
          "output_type": "execute_result",
          "data": {
            "text/plain": [
              "(260, 3)"
            ]
          },
          "metadata": {},
          "execution_count": 4
        }
      ]
    },
    {
      "cell_type": "code",
      "metadata": {
        "colab": {
          "base_uri": "https://localhost:8080/",
          "height": 558
        },
        "id": "9-tREXWk28Jj",
        "outputId": "6d29ef03-9330-4d47-c910-c76d2386692a"
      },
      "source": [
        "#Visualize the closing price history\n",
        "plt.figure(figsize=(16,8))\n",
        "plt.title('IPC-Saude-FIPE Closing Value History')\n",
        "plt.plot(df['Valor'])\n",
        "plt.xlabel('Referência', fontsize=18)\n",
        "plt.ylabel('Close Value BRL (R$)', fontsize=18)\n",
        "plt.show()\n"
      ],
      "execution_count": 5,
      "outputs": [
        {
          "output_type": "display_data",
          "data": {
            "image/png": "[encoded data removed]",
            "text/plain": [
              "<Figure size 1152x576 with 1 Axes>"
            ]
          },
          "metadata": {}
        }
      ]
    },
    {
      "cell_type": "code",
      "metadata": {
        "colab": {
          "base_uri": "https://localhost:8080/"
        },
        "id": "icIrnepc3ZxK",
        "outputId": "513ff24c-7d24-42d4-a593-4d8bd97a51c7"
      },
      "source": [
        "#New dataframe with only the Close Value\n",
        "data = df.filter(['Valor'])\n",
        "#Convert dataframe to a numpy array\n",
        "dataset = data.values\n",
        "#Get the number of rows to train the model on\n",
        "training_data_len = math.ceil(len(dataset) * .8)\n",
        "\n",
        "training_data_len"
      ],
      "execution_count": 6,
      "outputs": [
        {
          "output_type": "execute_result",
          "data": {
            "text/plain": [
              "208"
            ]
          },
          "metadata": {},
          "execution_count": 6
        }
      ]
    },
    {
      "cell_type": "code",
      "metadata": {
        "colab": {
          "base_uri": "https://localhost:8080/"
        },
        "id": "nrKeNm0K5x1S",
        "outputId": "2aa2a893-c0ec-481c-c258-89ab8db13118"
      },
      "source": [
        "#Scale the data\n",
        "scaler = MinMaxScaler(feature_range=(0,1))\n",
        "scaled_data = scaler.fit_transform(dataset)\n",
        "scaled_data"
      ],
      "execution_count": 7,
      "outputs": [
        {
          "output_type": "execute_result",
          "data": {
            "text/plain": [
              "array([[8.77824603e-04],\n",
              "       [0.00000000e+00],\n",
              "       [0.00000000e+00],\n",
              "       [1.07275536e-03],\n",
              "       [2.91467288e-03],\n",
              "       [5.45309886e-03],\n",
              "       [7.98541735e-03],\n",
              "       [1.22526450e-02],\n",
              "       [1.26356356e-02],\n",
              "       [1.31074393e-02],\n",
              "       [1.26348722e-02],\n",
              "       [1.31066759e-02],\n",
              "       [1.37566147e-02],\n",
              "       [1.63619686e-02],\n",
              "       [1.88408465e-02],\n",
              "       [2.01960734e-02],\n",
              "       [1.87743003e-02],\n",
              "       [1.89549803e-02],\n",
              "       [1.98286060e-02],\n",
              "       [2.09766871e-02],\n",
              "       [2.15529543e-02],\n",
              "       [2.11274658e-02],\n",
              "       [2.36763254e-02],\n",
              "       [2.59100130e-02],\n",
              "       [2.68038698e-02],\n",
              "       [3.12240392e-02],\n",
              "       [3.38576402e-02],\n",
              "       [3.43635441e-02],\n",
              "       [3.52818308e-02],\n",
              "       [3.60441220e-02],\n",
              "       [3.79860497e-02],\n",
              "       [4.10287254e-02],\n",
              "       [4.15783996e-02],\n",
              "       [4.34569621e-02],\n",
              "       [4.57697926e-02],\n",
              "       [5.46606455e-02],\n",
              "       [5.69519726e-02],\n",
              "       [6.05480125e-02],\n",
              "       [6.55537376e-02],\n",
              "       [6.94149443e-02],\n",
              "       [7.10680386e-02],\n",
              "       [7.39302888e-02],\n",
              "       [7.48920914e-02],\n",
              "       [7.60352102e-02],\n",
              "       [7.90094311e-02],\n",
              "       [7.97320236e-02],\n",
              "       [8.25558476e-02],\n",
              "       [8.17532215e-02],\n",
              "       [8.26269744e-02],\n",
              "       [8.51083972e-02],\n",
              "       [8.65045951e-02],\n",
              "       [9.49503645e-02],\n",
              "       [9.78929029e-02],\n",
              "       [1.01048567e-01],\n",
              "       [1.08830529e-01],\n",
              "       [1.11216522e-01],\n",
              "       [1.12436366e-01],\n",
              "       [1.13936391e-01],\n",
              "       [1.15362872e-01],\n",
              "       [1.17788691e-01],\n",
              "       [1.19068974e-01],\n",
              "       [1.19992096e-01],\n",
              "       [1.22285204e-01],\n",
              "       [1.29527289e-01],\n",
              "       [1.32986674e-01],\n",
              "       [1.36142847e-01],\n",
              "       [1.40829456e-01],\n",
              "       [1.44849330e-01],\n",
              "       [1.50914832e-01],\n",
              "       [1.53124217e-01],\n",
              "       [1.54256393e-01],\n",
              "       [1.54867524e-01],\n",
              "       [1.57009727e-01],\n",
              "       [1.59381978e-01],\n",
              "       [1.61413737e-01],\n",
              "       [1.67004636e-01],\n",
              "       [1.70599021e-01],\n",
              "       [1.70870805e-01],\n",
              "       [1.74633910e-01],\n",
              "       [1.76795707e-01],\n",
              "       [1.78289625e-01],\n",
              "       [1.79039956e-01],\n",
              "       [1.80396328e-01],\n",
              "       [1.82502522e-01],\n",
              "       [1.84319500e-01],\n",
              "       [1.88486845e-01],\n",
              "       [1.89308811e-01],\n",
              "       [1.92435592e-01],\n",
              "       [1.94448520e-01],\n",
              "       [1.95564664e-01],\n",
              "       [1.98475265e-01],\n",
              "       [2.01710963e-01],\n",
              "       [2.02372608e-01],\n",
              "       [2.04602096e-01],\n",
              "       [2.07681799e-01],\n",
              "       [2.09065527e-01],\n",
              "       [2.10827538e-01],\n",
              "       [2.13646273e-01],\n",
              "       [2.15310182e-01],\n",
              "       [2.20294277e-01],\n",
              "       [2.23268116e-01],\n",
              "       [2.27411794e-01],\n",
              "       [2.30255595e-01],\n",
              "       [2.32492845e-01],\n",
              "       [2.35480172e-01],\n",
              "       [2.38762948e-01],\n",
              "       [2.40371000e-01],\n",
              "       [2.40598885e-01],\n",
              "       [2.42769462e-01],\n",
              "       [2.43851124e-01],\n",
              "       [2.45038650e-01],\n",
              "       [2.54823995e-01],\n",
              "       [2.58876061e-01],\n",
              "       [2.63595116e-01],\n",
              "       [2.67921892e-01],\n",
              "       [2.68715357e-01],\n",
              "       [2.72316868e-01],\n",
              "       [2.73880258e-01],\n",
              "       [2.75144000e-01],\n",
              "       [2.76262180e-01],\n",
              "       [2.77707747e-01],\n",
              "       [2.80543658e-01],\n",
              "       [2.81345139e-01],\n",
              "       [2.86882471e-01],\n",
              "       [2.93437717e-01],\n",
              "       [2.97541569e-01],\n",
              "       [3.00281924e-01],\n",
              "       [3.02949117e-01],\n",
              "       [3.04041085e-01],\n",
              "       [3.06225277e-01],\n",
              "       [3.07613077e-01],\n",
              "       [3.08940947e-01],\n",
              "       [3.11221332e-01],\n",
              "       [3.15476980e-01],\n",
              "       [3.19072511e-01],\n",
              "       [3.28415573e-01],\n",
              "       [3.32632541e-01],\n",
              "       [3.34523446e-01],\n",
              "       [3.37835869e-01],\n",
              "       [3.41941757e-01],\n",
              "       [3.45759703e-01],\n",
              "       [3.47659514e-01],\n",
              "       [3.50536015e-01],\n",
              "       [3.52032605e-01],\n",
              "       [3.54599151e-01],\n",
              "       [3.57802148e-01],\n",
              "       [3.60230766e-01],\n",
              "       [3.64907705e-01],\n",
              "       [3.69841413e-01],\n",
              "       [3.73527283e-01],\n",
              "       [3.76103500e-01],\n",
              "       [3.79694450e-01],\n",
              "       [3.83418111e-01],\n",
              "       [3.84788225e-01],\n",
              "       [3.88008908e-01],\n",
              "       [3.89633755e-01],\n",
              "       [3.92381236e-01],\n",
              "       [3.96274889e-01],\n",
              "       [3.98002545e-01],\n",
              "       [4.06923426e-01],\n",
              "       [4.13432485e-01],\n",
              "       [4.14766845e-01],\n",
              "       [4.17044939e-01],\n",
              "       [4.22826443e-01],\n",
              "       [4.27902022e-01],\n",
              "       [4.31175256e-01],\n",
              "       [4.34656398e-01],\n",
              "       [4.37173575e-01],\n",
              "       [4.39647873e-01],\n",
              "       [4.44591759e-01],\n",
              "       [4.48221899e-01],\n",
              "       [4.56606848e-01],\n",
              "       [4.62449427e-01],\n",
              "       [4.64443141e-01],\n",
              "       [4.68763809e-01],\n",
              "       [4.71335445e-01],\n",
              "       [4.74857304e-01],\n",
              "       [4.78179652e-01],\n",
              "       [4.83555517e-01],\n",
              "       [4.87680491e-01],\n",
              "       [4.91344095e-01],\n",
              "       [4.93060045e-01],\n",
              "       [4.97054599e-01],\n",
              "       [5.08564166e-01],\n",
              "       [5.17109564e-01],\n",
              "       [5.20492605e-01],\n",
              "       [5.33926668e-01],\n",
              "       [5.42894628e-01],\n",
              "       [5.49314619e-01],\n",
              "       [5.56139740e-01],\n",
              "       [5.61428573e-01],\n",
              "       [5.64417044e-01],\n",
              "       [5.69292476e-01],\n",
              "       [5.75368667e-01],\n",
              "       [5.81441803e-01],\n",
              "       [6.01487607e-01],\n",
              "       [6.15016717e-01],\n",
              "       [6.18787202e-01],\n",
              "       [6.31926070e-01],\n",
              "       [6.44837688e-01],\n",
              "       [6.50071426e-01],\n",
              "       [6.55287096e-01],\n",
              "       [6.59772539e-01],\n",
              "       [6.63120717e-01],\n",
              "       [6.69759432e-01],\n",
              "       [6.76366847e-01],\n",
              "       [6.83278746e-01],\n",
              "       [6.99335467e-01],\n",
              "       [7.06410105e-01],\n",
              "       [7.06828340e-01],\n",
              "       [7.18474435e-01],\n",
              "       [7.27505379e-01],\n",
              "       [7.30529859e-01],\n",
              "       [7.35037951e-01],\n",
              "       [7.39297544e-01],\n",
              "       [7.43909082e-01],\n",
              "       [7.47066655e-01],\n",
              "       [7.50084773e-01],\n",
              "       [7.54848235e-01],\n",
              "       [7.64236594e-01],\n",
              "       [7.69379228e-01],\n",
              "       [7.69717940e-01],\n",
              "       [7.78593778e-01],\n",
              "       [7.88884519e-01],\n",
              "       [7.95019239e-01],\n",
              "       [7.98858815e-01],\n",
              "       [8.08805501e-01],\n",
              "       [8.11700197e-01],\n",
              "       [8.14495392e-01],\n",
              "       [8.17696863e-01],\n",
              "       [8.23018650e-01],\n",
              "       [8.37050738e-01],\n",
              "       [8.39836899e-01],\n",
              "       [8.41837612e-01],\n",
              "       [8.47035596e-01],\n",
              "       [8.51555266e-01],\n",
              "       [8.63006049e-01],\n",
              "       [8.71078243e-01],\n",
              "       [8.76007752e-01],\n",
              "       [8.74132498e-01],\n",
              "       [8.77816969e-01],\n",
              "       [8.79878502e-01],\n",
              "       [8.80786100e-01],\n",
              "       [8.85944385e-01],\n",
              "       [8.88104529e-01],\n",
              "       [8.94911582e-01],\n",
              "       [9.00709372e-01],\n",
              "       [9.08449854e-01],\n",
              "       [9.09341675e-01],\n",
              "       [9.09565743e-01],\n",
              "       [9.12578772e-01],\n",
              "       [9.16544570e-01],\n",
              "       [9.41944607e-01],\n",
              "       [9.51007742e-01],\n",
              "       [9.56810368e-01],\n",
              "       [9.78050059e-01],\n",
              "       [9.86701193e-01],\n",
              "       [9.97664012e-01],\n",
              "       [1.00000000e+00],\n",
              "       [9.99537103e-01]])"
            ]
          },
          "metadata": {},
          "execution_count": 7
        }
      ]
    },
    {
      "cell_type": "code",
      "metadata": {
        "colab": {
          "base_uri": "https://localhost:8080/"
        },
        "id": "hYAKMq0X6Pyp",
        "outputId": "26089e40-dcc6-463d-bce6-6ca36eb93ea6"
      },
      "source": [
        "#Create the training dataset\n",
        "#Create the scaled training data set\n",
        "train_data = scaled_data[0:training_data_len, :]\n",
        "#Split the data into x_train and y_train data sets\n",
        "x_train = []\n",
        "y_train = []\n",
        "\n",
        "for i in range (60, len(train_data)):\n",
        "  x_train.append(train_data[i-60:i,0])\n",
        "  y_train.append(train_data[i, 0])\n",
        "  if i<=61:\n",
        "    print(x_train)\n",
        "    print(y_train)\n",
        "    print() \n"
      ],
      "execution_count": 8,
      "outputs": [
        {
          "output_type": "stream",
          "name": "stdout",
          "text": [
            "[array([0.00087782, 0.        , 0.        , 0.00107276, 0.00291467,\n",
            "       0.0054531 , 0.00798542, 0.01225265, 0.01263564, 0.01310744,\n",
            "       0.01263487, 0.01310668, 0.01375661, 0.01636197, 0.01884085,\n",
            "       0.02019607, 0.0187743 , 0.01895498, 0.01982861, 0.02097669,\n",
            "       0.02155295, 0.02112747, 0.02367633, 0.02591001, 0.02680387,\n",
            "       0.03122404, 0.03385764, 0.03436354, 0.03528183, 0.03604412,\n",
            "       0.03798605, 0.04102873, 0.0415784 , 0.04345696, 0.04576979,\n",
            "       0.05466065, 0.05695197, 0.06054801, 0.06555374, 0.06941494,\n",
            "       0.07106804, 0.07393029, 0.07489209, 0.07603521, 0.07900943,\n",
            "       0.07973202, 0.08255585, 0.08175322, 0.08262697, 0.0851084 ,\n",
            "       0.0865046 , 0.09495036, 0.0978929 , 0.10104857, 0.10883053,\n",
            "       0.11121652, 0.11243637, 0.11393639, 0.11536287, 0.11778869])]\n",
            "[0.1190689740598313]\n",
            "\n",
            "[array([0.00087782, 0.        , 0.        , 0.00107276, 0.00291467,\n",
            "       0.0054531 , 0.00798542, 0.01225265, 0.01263564, 0.01310744,\n",
            "       0.01263487, 0.01310668, 0.01375661, 0.01636197, 0.01884085,\n",
            "       0.02019607, 0.0187743 , 0.01895498, 0.01982861, 0.02097669,\n",
            "       0.02155295, 0.02112747, 0.02367633, 0.02591001, 0.02680387,\n",
            "       0.03122404, 0.03385764, 0.03436354, 0.03528183, 0.03604412,\n",
            "       0.03798605, 0.04102873, 0.0415784 , 0.04345696, 0.04576979,\n",
            "       0.05466065, 0.05695197, 0.06054801, 0.06555374, 0.06941494,\n",
            "       0.07106804, 0.07393029, 0.07489209, 0.07603521, 0.07900943,\n",
            "       0.07973202, 0.08255585, 0.08175322, 0.08262697, 0.0851084 ,\n",
            "       0.0865046 , 0.09495036, 0.0978929 , 0.10104857, 0.10883053,\n",
            "       0.11121652, 0.11243637, 0.11393639, 0.11536287, 0.11778869]), array([0.        , 0.        , 0.00107276, 0.00291467, 0.0054531 ,\n",
            "       0.00798542, 0.01225265, 0.01263564, 0.01310744, 0.01263487,\n",
            "       0.01310668, 0.01375661, 0.01636197, 0.01884085, 0.02019607,\n",
            "       0.0187743 , 0.01895498, 0.01982861, 0.02097669, 0.02155295,\n",
            "       0.02112747, 0.02367633, 0.02591001, 0.02680387, 0.03122404,\n",
            "       0.03385764, 0.03436354, 0.03528183, 0.03604412, 0.03798605,\n",
            "       0.04102873, 0.0415784 , 0.04345696, 0.04576979, 0.05466065,\n",
            "       0.05695197, 0.06054801, 0.06555374, 0.06941494, 0.07106804,\n",
            "       0.07393029, 0.07489209, 0.07603521, 0.07900943, 0.07973202,\n",
            "       0.08255585, 0.08175322, 0.08262697, 0.0851084 , 0.0865046 ,\n",
            "       0.09495036, 0.0978929 , 0.10104857, 0.10883053, 0.11121652,\n",
            "       0.11243637, 0.11393639, 0.11536287, 0.11778869, 0.11906897])]\n",
            "[0.1190689740598313, 0.1199920958886278]\n",
            "\n"
          ]
        }
      ]
    },
    {
      "cell_type": "code",
      "metadata": {
        "id": "eg5S0h-O7FCU"
      },
      "source": [
        "#Convert the x_train and y_train to numpy arrays\n",
        "x_train, y_train = np.array(x_train), np.array(y_train)"
      ],
      "execution_count": 9,
      "outputs": []
    },
    {
      "cell_type": "code",
      "metadata": {
        "colab": {
          "base_uri": "https://localhost:8080/"
        },
        "id": "-3CmnoaV7w2J",
        "outputId": "21f369cb-9642-453e-9535-a0c3f58ef90a"
      },
      "source": [
        "#Reshape the data\n",
        "x_train = np.reshape(x_train, (x_train.shape[0], x_train.shape[1], 1))\n",
        "x_train.shape"
      ],
      "execution_count": 10,
      "outputs": [
        {
          "output_type": "execute_result",
          "data": {
            "text/plain": [
              "(148, 60, 1)"
            ]
          },
          "metadata": {},
          "execution_count": 10
        }
      ]
    },
    {
      "cell_type": "code",
      "metadata": {
        "id": "IDkKESK875kB"
      },
      "source": [
        "#Build the LSTM Model\n",
        "model = Sequential()\n",
        "model.add(LSTM(50, return_sequences=True, input_shape=(x_train.shape[1],1)))\n",
        "model.add(LSTM(50, return_sequences=False))\n",
        "model.add(Dense(25))\n",
        "model.add(Dense(1))"
      ],
      "execution_count": 11,
      "outputs": []
    },
    {
      "cell_type": "code",
      "metadata": {
        "id": "-kaHtbnN8qlx"
      },
      "source": [
        "#Compile the model\n",
        "model.compile(optimizer='adam', loss='mean_squared_error')\n"
      ],
      "execution_count": 12,
      "outputs": []
    },
    {
      "cell_type": "code",
      "metadata": {
        "colab": {
          "base_uri": "https://localhost:8080/"
        },
        "id": "IziMRgR588Gh",
        "outputId": "cdf12c52-56f0-4eba-8fe4-26ba5311c402"
      },
      "source": [
        "#Train the model\n",
        "model.fit(x_train, y_train, batch_size=1, epochs=1)"
      ],
      "execution_count": 13,
      "outputs": [
        {
          "output_type": "stream",
          "name": "stdout",
          "text": [
            "148/148 [==============================] - 5s 19ms/step - loss: 0.0047\n"
          ]
        },
        {
          "output_type": "execute_result",
          "data": {
            "text/plain": [
              "<keras.callbacks.History at 0x7fb96ec84950>"
            ]
          },
          "metadata": {},
          "execution_count": 13
        }
      ]
    },
    {
      "cell_type": "code",
      "metadata": {
        "id": "bRqXNqPh9M9j"
      },
      "source": [
        "#Create the testing dataset\n",
        "#Create a new array containing scaled values from index 148 to 200\n",
        "test_data = scaled_data[training_data_len -60:, :]\n",
        "#Create the data sets x_tests and y_test\n",
        "x_test = []\n",
        "y_test = dataset[training_data_len:, :]\n",
        "\n",
        "for i in range (60, len(test_data)):\n",
        "  x_test.append(test_data[i-60:i, 0])"
      ],
      "execution_count": 14,
      "outputs": []
    },
    {
      "cell_type": "code",
      "metadata": {
        "id": "w8dRh1-B97jD"
      },
      "source": [
        "#Convert the data to numpy array\n",
        "x_test = np.array(x_test)"
      ],
      "execution_count": 15,
      "outputs": []
    },
    {
      "cell_type": "code",
      "metadata": {
        "id": "o43qILsG-IT-"
      },
      "source": [
        "#Reshape the data\n",
        "x_test = np.reshape(x_test, (x_test.shape[0], x_test.shape[1], 1 ))"
      ],
      "execution_count": 16,
      "outputs": []
    },
    {
      "cell_type": "code",
      "metadata": {
        "id": "ekoZkai7-hWk"
      },
      "source": [
        "#Get the models predict price values\n",
        "predictions = model.predict(x_test)\n",
        "predictions = scaler.inverse_transform(predictions)"
      ],
      "execution_count": 17,
      "outputs": []
    },
    {
      "cell_type": "code",
      "metadata": {
        "colab": {
          "base_uri": "https://localhost:8080/"
        },
        "id": "SoZduwlc-9Kh",
        "outputId": "7a6971c4-b854-4ba2-cad7-12dc809cd000"
      },
      "source": [
        "#Get the root mean squared error (RMSE)\n",
        "rsme = np.sqrt( np.mean(predictions - y_test)**2 )\n",
        "rsme"
      ],
      "execution_count": 18,
      "outputs": [
        {
          "output_type": "execute_result",
          "data": {
            "text/plain": [
              "4.392039815579934"
            ]
          },
          "metadata": {},
          "execution_count": 18
        }
      ]
    },
    {
      "cell_type": "code",
      "metadata": {
        "colab": {
          "base_uri": "https://localhost:8080/",
          "height": 660
        },
        "id": "logMLOUb_Tzb",
        "outputId": "12ce14a4-f957-497b-ccee-e8c68fd4f10f"
      },
      "source": [
        "#Plot the data\n",
        "train = data[:training_data_len]\n",
        "valid = data[training_data_len:]\n",
        "valid['Predictions'] = predictions\n",
        "#Visualize the model\n",
        "plt.figure(figsize=(16,8))\n",
        "plt.title('Model')\n",
        "plt.xlabel('Referência', fontsize=18)\n",
        "plt.ylabel('Close Value BRL (R$)',fontsize=18)\n",
        "plt.plot(train['Valor'])\n",
        "plt.plot(valid[['Valor', 'Predictions']])\n",
        "plt.legend(['Train', 'Validation', 'Prediction'], loc='lower right')\n",
        "plt.show()"
      ],
      "execution_count": 19,
      "outputs": [
        {
          "output_type": "stream",
          "name": "stderr",
          "text": [
            "/usr/local/lib/python3.7/dist-packages/ipykernel_launcher.py:4: SettingWithCopyWarning: \n",
            "A value is trying to be set on a copy of a slice from a DataFrame.\n",
            "Try using .loc[row_indexer,col_indexer] = value instead\n",
            "\n",
            "See the caveats in the documentation: https://pandas.pydata.org/pandas-docs/stable/user_guide/indexing.html#returning-a-view-versus-a-copy\n",
            "  after removing the cwd from sys.path.\n"
          ]
        },
        {
          "output_type": "display_data",
          "data": {
            "image/png": "[encoded data removed]",
            "text/plain": [
              "<Figure size 1152x576 with 1 Axes>"
            ]
          },
          "metadata": {}
        }
      ]
    },
    {
      "cell_type": "code",
      "metadata": {
        "colab": {
          "base_uri": "https://localhost:8080/",
          "height": 1000
        },
        "id": "M5MS1L8TBNKg",
        "outputId": "82481459-f5ab-4fce-8fde-69b7ec7f97b7"
      },
      "source": [
        "#Show the valid and predicted prices\n",
        "valid"
      ],
      "execution_count": 20,
      "outputs": [
        {
          "output_type": "execute_result",
          "data": {
            "text/html": [
              "<div>\n",
              "<style scoped>\n",
              "    .dataframe tbody tr th:only-of-type {\n",
              "        vertical-align: middle;\n",
              "    }\n",
              "\n",
              "    .dataframe tbody tr th {\n",
              "        vertical-align: top;\n",
              "    }\n",
              "\n",
              "    .dataframe thead th {\n",
              "        text-align: right;\n",
              "    }\n",
              "</style>\n",
              "<table border=\"1\" class=\"dataframe\">\n",
              "  <thead>\n",
              "    <tr style=\"text-align: right;\">\n",
              "      <th></th>\n",
              "      <th>Valor</th>\n",
              "      <th>Predictions</th>\n",
              "    </tr>\n",
              "    <tr>\n",
              "      <th>Referência</th>\n",
              "      <th></th>\n",
              "      <th></th>\n",
              "    </tr>\n",
              "  </thead>\n",
              "  <tbody>\n",
              "    <tr>\n",
              "      <th>2017-04-30</th>\n",
              "      <td>777.0499</td>\n",
              "      <td>764.021240</td>\n",
              "    </tr>\n",
              "    <tr>\n",
              "      <th>2017-05-31</th>\n",
              "      <td>777.3786</td>\n",
              "      <td>770.440247</td>\n",
              "    </tr>\n",
              "    <tr>\n",
              "      <th>2017-06-30</th>\n",
              "      <td>786.5315</td>\n",
              "      <td>776.693848</td>\n",
              "    </tr>\n",
              "    <tr>\n",
              "      <th>2017-07-31</th>\n",
              "      <td>793.6291</td>\n",
              "      <td>782.955261</td>\n",
              "    </tr>\n",
              "    <tr>\n",
              "      <th>2017-08-31</th>\n",
              "      <td>796.0061</td>\n",
              "      <td>789.252686</td>\n",
              "    </tr>\n",
              "    <tr>\n",
              "      <th>2017-09-30</th>\n",
              "      <td>799.5491</td>\n",
              "      <td>795.437683</td>\n",
              "    </tr>\n",
              "    <tr>\n",
              "      <th>2017-10-31</th>\n",
              "      <td>802.8968</td>\n",
              "      <td>801.457947</td>\n",
              "    </tr>\n",
              "    <tr>\n",
              "      <th>2017-11-30</th>\n",
              "      <td>806.5211</td>\n",
              "      <td>807.268921</td>\n",
              "    </tr>\n",
              "    <tr>\n",
              "      <th>2017-12-31</th>\n",
              "      <td>809.0027</td>\n",
              "      <td>812.857300</td>\n",
              "    </tr>\n",
              "    <tr>\n",
              "      <th>2018-01-31</th>\n",
              "      <td>811.3747</td>\n",
              "      <td>818.178833</td>\n",
              "    </tr>\n",
              "    <tr>\n",
              "      <th>2018-02-28</th>\n",
              "      <td>815.1184</td>\n",
              "      <td>823.210022</td>\n",
              "    </tr>\n",
              "    <tr>\n",
              "      <th>2018-03-31</th>\n",
              "      <td>822.4969</td>\n",
              "      <td>827.995361</td>\n",
              "    </tr>\n",
              "    <tr>\n",
              "      <th>2018-04-30</th>\n",
              "      <td>826.5386</td>\n",
              "      <td>832.707825</td>\n",
              "    </tr>\n",
              "    <tr>\n",
              "      <th>2018-05-31</th>\n",
              "      <td>826.8048</td>\n",
              "      <td>837.344116</td>\n",
              "    </tr>\n",
              "    <tr>\n",
              "      <th>2018-06-30</th>\n",
              "      <td>833.7805</td>\n",
              "      <td>841.773743</td>\n",
              "    </tr>\n",
              "    <tr>\n",
              "      <th>2018-07-31</th>\n",
              "      <td>841.8682</td>\n",
              "      <td>846.163635</td>\n",
              "    </tr>\n",
              "    <tr>\n",
              "      <th>2018-08-31</th>\n",
              "      <td>846.6896</td>\n",
              "      <td>850.658630</td>\n",
              "    </tr>\n",
              "    <tr>\n",
              "      <th>2018-09-30</th>\n",
              "      <td>849.7072</td>\n",
              "      <td>855.239197</td>\n",
              "    </tr>\n",
              "    <tr>\n",
              "      <th>2018-10-31</th>\n",
              "      <td>857.5245</td>\n",
              "      <td>859.828125</td>\n",
              "    </tr>\n",
              "    <tr>\n",
              "      <th>2018-11-30</th>\n",
              "      <td>859.7995</td>\n",
              "      <td>864.548279</td>\n",
              "    </tr>\n",
              "    <tr>\n",
              "      <th>2018-12-31</th>\n",
              "      <td>861.9963</td>\n",
              "      <td>869.264587</td>\n",
              "    </tr>\n",
              "    <tr>\n",
              "      <th>2019-01-31</th>\n",
              "      <td>864.5124</td>\n",
              "      <td>873.892456</td>\n",
              "    </tr>\n",
              "    <tr>\n",
              "      <th>2019-02-28</th>\n",
              "      <td>868.6949</td>\n",
              "      <td>878.382568</td>\n",
              "    </tr>\n",
              "    <tr>\n",
              "      <th>2019-03-31</th>\n",
              "      <td>879.7230</td>\n",
              "      <td>882.764893</td>\n",
              "    </tr>\n",
              "    <tr>\n",
              "      <th>2019-04-30</th>\n",
              "      <td>881.9127</td>\n",
              "      <td>887.313293</td>\n",
              "    </tr>\n",
              "    <tr>\n",
              "      <th>2019-05-31</th>\n",
              "      <td>883.4851</td>\n",
              "      <td>891.877197</td>\n",
              "    </tr>\n",
              "    <tr>\n",
              "      <th>2019-06-30</th>\n",
              "      <td>887.5703</td>\n",
              "      <td>896.351746</td>\n",
              "    </tr>\n",
              "    <tr>\n",
              "      <th>2019-07-31</th>\n",
              "      <td>891.1224</td>\n",
              "      <td>900.752869</td>\n",
              "    </tr>\n",
              "    <tr>\n",
              "      <th>2019-08-31</th>\n",
              "      <td>900.1218</td>\n",
              "      <td>905.067383</td>\n",
              "    </tr>\n",
              "    <tr>\n",
              "      <th>2019-09-30</th>\n",
              "      <td>906.4659</td>\n",
              "      <td>909.491089</td>\n",
              "    </tr>\n",
              "    <tr>\n",
              "      <th>2019-10-31</th>\n",
              "      <td>910.3401</td>\n",
              "      <td>914.048462</td>\n",
              "    </tr>\n",
              "    <tr>\n",
              "      <th>2019-11-30</th>\n",
              "      <td>908.8663</td>\n",
              "      <td>918.672241</td>\n",
              "    </tr>\n",
              "    <tr>\n",
              "      <th>2019-12-31</th>\n",
              "      <td>911.7620</td>\n",
              "      <td>923.119995</td>\n",
              "    </tr>\n",
              "    <tr>\n",
              "      <th>2020-01-31</th>\n",
              "      <td>913.3822</td>\n",
              "      <td>927.396912</td>\n",
              "    </tr>\n",
              "    <tr>\n",
              "      <th>2020-02-29</th>\n",
              "      <td>914.0955</td>\n",
              "      <td>931.449829</td>\n",
              "    </tr>\n",
              "    <tr>\n",
              "      <th>2020-03-31</th>\n",
              "      <td>918.1495</td>\n",
              "      <td>935.222839</td>\n",
              "    </tr>\n",
              "    <tr>\n",
              "      <th>2020-04-30</th>\n",
              "      <td>919.8472</td>\n",
              "      <td>938.810669</td>\n",
              "    </tr>\n",
              "    <tr>\n",
              "      <th>2020-05-31</th>\n",
              "      <td>925.1970</td>\n",
              "      <td>942.192444</td>\n",
              "    </tr>\n",
              "    <tr>\n",
              "      <th>2020-06-30</th>\n",
              "      <td>929.7536</td>\n",
              "      <td>945.503235</td>\n",
              "    </tr>\n",
              "    <tr>\n",
              "      <th>2020-07-31</th>\n",
              "      <td>935.8370</td>\n",
              "      <td>948.801392</td>\n",
              "    </tr>\n",
              "    <tr>\n",
              "      <th>2020-08-31</th>\n",
              "      <td>936.5379</td>\n",
              "      <td>952.188782</td>\n",
              "    </tr>\n",
              "    <tr>\n",
              "      <th>2020-09-30</th>\n",
              "      <td>936.7140</td>\n",
              "      <td>955.533508</td>\n",
              "    </tr>\n",
              "    <tr>\n",
              "      <th>2020-10-31</th>\n",
              "      <td>939.0820</td>\n",
              "      <td>958.740112</td>\n",
              "    </tr>\n",
              "    <tr>\n",
              "      <th>2020-11-30</th>\n",
              "      <td>942.1988</td>\n",
              "      <td>961.821350</td>\n",
              "    </tr>\n",
              "    <tr>\n",
              "      <th>2020-12-31</th>\n",
              "      <td>962.1612</td>\n",
              "      <td>964.810669</td>\n",
              "    </tr>\n",
              "    <tr>\n",
              "      <th>2021-01-31</th>\n",
              "      <td>969.2841</td>\n",
              "      <td>968.345093</td>\n",
              "    </tr>\n",
              "    <tr>\n",
              "      <th>2021-02-28</th>\n",
              "      <td>973.8445</td>\n",
              "      <td>972.342712</td>\n",
              "    </tr>\n",
              "    <tr>\n",
              "      <th>2021-03-31</th>\n",
              "      <td>990.5372</td>\n",
              "      <td>976.685669</td>\n",
              "    </tr>\n",
              "    <tr>\n",
              "      <th>2021-04-30</th>\n",
              "      <td>997.3363</td>\n",
              "      <td>981.711609</td>\n",
              "    </tr>\n",
              "    <tr>\n",
              "      <th>2021-05-31</th>\n",
              "      <td>1005.9522</td>\n",
              "      <td>987.234558</td>\n",
              "    </tr>\n",
              "    <tr>\n",
              "      <th>2021-06-30</th>\n",
              "      <td>1007.7881</td>\n",
              "      <td>993.206848</td>\n",
              "    </tr>\n",
              "    <tr>\n",
              "      <th>2021-07-31</th>\n",
              "      <td>1007.4243</td>\n",
              "      <td>999.319763</td>\n",
              "    </tr>\n",
              "  </tbody>\n",
              "</table>\n",
              "</div>"
            ],
            "text/plain": [
              "                Valor  Predictions\n",
              "Referência                        \n",
              "2017-04-30   777.0499   764.021240\n",
              "2017-05-31   777.3786   770.440247\n",
              "2017-06-30   786.5315   776.693848\n",
              "2017-07-31   793.6291   782.955261\n",
              "2017-08-31   796.0061   789.252686\n",
              "2017-09-30   799.5491   795.437683\n",
              "2017-10-31   802.8968   801.457947\n",
              "2017-11-30   806.5211   807.268921\n",
              "2017-12-31   809.0027   812.857300\n",
              "2018-01-31   811.3747   818.178833\n",
              "2018-02-28   815.1184   823.210022\n",
              "2018-03-31   822.4969   827.995361\n",
              "2018-04-30   826.5386   832.707825\n",
              "2018-05-31   826.8048   837.344116\n",
              "2018-06-30   833.7805   841.773743\n",
              "2018-07-31   841.8682   846.163635\n",
              "2018-08-31   846.6896   850.658630\n",
              "2018-09-30   849.7072   855.239197\n",
              "2018-10-31   857.5245   859.828125\n",
              "2018-11-30   859.7995   864.548279\n",
              "2018-12-31   861.9963   869.264587\n",
              "2019-01-31   864.5124   873.892456\n",
              "2019-02-28   868.6949   878.382568\n",
              "2019-03-31   879.7230   882.764893\n",
              "2019-04-30   881.9127   887.313293\n",
              "2019-05-31   883.4851   891.877197\n",
              "2019-06-30   887.5703   896.351746\n",
              "2019-07-31   891.1224   900.752869\n",
              "2019-08-31   900.1218   905.067383\n",
              "2019-09-30   906.4659   909.491089\n",
              "2019-10-31   910.3401   914.048462\n",
              "2019-11-30   908.8663   918.672241\n",
              "2019-12-31   911.7620   923.119995\n",
              "2020-01-31   913.3822   927.396912\n",
              "2020-02-29   914.0955   931.449829\n",
              "2020-03-31   918.1495   935.222839\n",
              "2020-04-30   919.8472   938.810669\n",
              "2020-05-31   925.1970   942.192444\n",
              "2020-06-30   929.7536   945.503235\n",
              "2020-07-31   935.8370   948.801392\n",
              "2020-08-31   936.5379   952.188782\n",
              "2020-09-30   936.7140   955.533508\n",
              "2020-10-31   939.0820   958.740112\n",
              "2020-11-30   942.1988   961.821350\n",
              "2020-12-31   962.1612   964.810669\n",
              "2021-01-31   969.2841   968.345093\n",
              "2021-02-28   973.8445   972.342712\n",
              "2021-03-31   990.5372   976.685669\n",
              "2021-04-30   997.3363   981.711609\n",
              "2021-05-31  1005.9522   987.234558\n",
              "2021-06-30  1007.7881   993.206848\n",
              "2021-07-31  1007.4243   999.319763"
            ]
          },
          "metadata": {},
          "execution_count": 20
        }
      ]
    },
    {
      "cell_type": "code",
      "metadata": {
        "colab": {
          "base_uri": "https://localhost:8080/"
        },
        "id": "2G-_wiVzCBvh",
        "outputId": "0aff9b22-d0f9-467d-e3cf-6e5034598a16"
      },
      "source": [
        "#Get the report\n",
        "indice = pd.read_excel('/content/drive/MyDrive/pesquisaFIPE_IPC.xlsx')\n",
        "#Create a new dataframe\n",
        "new_df = indice.filter(['Valor'])\n",
        "#Get the last 60 months price values and convert the dataframe to an array\n",
        "last_60_days = new_df[-60:].values\n",
        "#Scale the data to be values between 0 and 1\n",
        "last_60_days_scaled = scaler.transform(last_60_days)\n",
        "#Create an empty list\n",
        "X_test = []\n",
        "#Append the past 60 months\n",
        "X_test.append(last_60_days_scaled)\n",
        "#Convert the X_test dataset to a numpy array\n",
        "X_test = np.array(X_test)\n",
        "#Reshape the data\n",
        "X_test = np.reshape(X_test, (X_test.shape[0], X_test.shape[1], 1))\n",
        "#Get the predicted scaled price\n",
        "pred_price = model.predict(X_test)\n",
        "#Undo the Scaling\n",
        "pred_price = scaler.inverse_transform(pred_price)\n",
        "print(pred_price)"
      ],
      "execution_count": 22,
      "outputs": [
        {
          "output_type": "stream",
          "name": "stdout",
          "text": [
            "[[240.13403]]\n"
          ]
        }
      ]
    },
    {
      "cell_type": "code",
      "metadata": {
        "colab": {
          "base_uri": "https://localhost:8080/",
          "height": 450
        },
        "id": "weT4hZOmEgZ9",
        "outputId": "12acba53-a67f-4b83-f376-8a81a6359c94"
      },
      "source": [
        "#Get the report\n",
        "indice2 = pd.read_excel('/content/drive/MyDrive/pesquisaFIPE_IPC.xlsx')\n",
        "#Sort Values by Date\n",
        "indice2 = indice2.sort_values(by='Referência', ascending=True)\n",
        "#Set Date as Index\n",
        "indice2 = indice2.set_index('Referência')\n",
        "#Show Value Real\n",
        "indice2"
      ],
      "execution_count": 35,
      "outputs": [
        {
          "output_type": "execute_result",
          "data": {
            "text/html": [
              "<div>\n",
              "<style scoped>\n",
              "    .dataframe tbody tr th:only-of-type {\n",
              "        vertical-align: middle;\n",
              "    }\n",
              "\n",
              "    .dataframe tbody tr th {\n",
              "        vertical-align: top;\n",
              "    }\n",
              "\n",
              "    .dataframe thead th {\n",
              "        text-align: right;\n",
              "    }\n",
              "</style>\n",
              "<table border=\"1\" class=\"dataframe\">\n",
              "  <thead>\n",
              "    <tr style=\"text-align: right;\">\n",
              "      <th></th>\n",
              "      <th>Valor</th>\n",
              "      <th>Ano</th>\n",
              "      <th>Mês</th>\n",
              "    </tr>\n",
              "    <tr>\n",
              "      <th>Referência</th>\n",
              "      <th></th>\n",
              "      <th></th>\n",
              "      <th></th>\n",
              "    </tr>\n",
              "  </thead>\n",
              "  <tbody>\n",
              "    <tr>\n",
              "      <th>1999-12-31</th>\n",
              "      <td>222.5579</td>\n",
              "      <td>2000</td>\n",
              "      <td>1</td>\n",
              "    </tr>\n",
              "    <tr>\n",
              "      <th>2000-01-31</th>\n",
              "      <td>221.8680</td>\n",
              "      <td>2000</td>\n",
              "      <td>2</td>\n",
              "    </tr>\n",
              "    <tr>\n",
              "      <th>2000-02-29</th>\n",
              "      <td>221.8680</td>\n",
              "      <td>2000</td>\n",
              "      <td>3</td>\n",
              "    </tr>\n",
              "    <tr>\n",
              "      <th>2000-03-31</th>\n",
              "      <td>222.7111</td>\n",
              "      <td>2000</td>\n",
              "      <td>4</td>\n",
              "    </tr>\n",
              "    <tr>\n",
              "      <th>2000-04-30</th>\n",
              "      <td>224.1587</td>\n",
              "      <td>2000</td>\n",
              "      <td>5</td>\n",
              "    </tr>\n",
              "    <tr>\n",
              "      <th>...</th>\n",
              "      <td>...</td>\n",
              "      <td>...</td>\n",
              "      <td>...</td>\n",
              "    </tr>\n",
              "    <tr>\n",
              "      <th>2021-03-31</th>\n",
              "      <td>990.5372</td>\n",
              "      <td>2021</td>\n",
              "      <td>4</td>\n",
              "    </tr>\n",
              "    <tr>\n",
              "      <th>2021-04-30</th>\n",
              "      <td>997.3363</td>\n",
              "      <td>2021</td>\n",
              "      <td>5</td>\n",
              "    </tr>\n",
              "    <tr>\n",
              "      <th>2021-05-31</th>\n",
              "      <td>1005.9522</td>\n",
              "      <td>2021</td>\n",
              "      <td>6</td>\n",
              "    </tr>\n",
              "    <tr>\n",
              "      <th>2021-06-30</th>\n",
              "      <td>1007.7881</td>\n",
              "      <td>2021</td>\n",
              "      <td>7</td>\n",
              "    </tr>\n",
              "    <tr>\n",
              "      <th>2021-07-31</th>\n",
              "      <td>1007.4243</td>\n",
              "      <td>2021</td>\n",
              "      <td>8</td>\n",
              "    </tr>\n",
              "  </tbody>\n",
              "</table>\n",
              "<p>260 rows × 3 columns</p>\n",
              "</div>"
            ],
            "text/plain": [
              "                Valor   Ano  Mês\n",
              "Referência                      \n",
              "1999-12-31   222.5579  2000    1\n",
              "2000-01-31   221.8680  2000    2\n",
              "2000-02-29   221.8680  2000    3\n",
              "2000-03-31   222.7111  2000    4\n",
              "2000-04-30   224.1587  2000    5\n",
              "...               ...   ...  ...\n",
              "2021-03-31   990.5372  2021    4\n",
              "2021-04-30   997.3363  2021    5\n",
              "2021-05-31  1005.9522  2021    6\n",
              "2021-06-30  1007.7881  2021    7\n",
              "2021-07-31  1007.4243  2021    8\n",
              "\n",
              "[260 rows x 3 columns]"
            ]
          },
          "metadata": {},
          "execution_count": 35
        }
      ]
    },
    {
      "cell_type": "code",
      "metadata": {
        "id": "vwse_ebHHTeJ"
      },
      "source": [
        "#Show the Efficiency\n"
      ],
      "execution_count": null,
      "outputs": []
    }
  ]
}